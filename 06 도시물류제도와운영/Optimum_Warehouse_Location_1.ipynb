{
 "cells": [
  {
   "cell_type": "markdown",
   "metadata": {
    "deletable": true,
    "editable": true
   },
   "source": [
    "## 모듈 임포트"
   ]
  },
  {
   "cell_type": "code",
   "execution_count": 1,
   "metadata": {
    "collapsed": true,
    "deletable": true,
    "editable": true
   },
   "outputs": [],
   "source": [
    "import pandas as pd\n",
    "from pandas import Series, DataFrame\n",
    "import numpy as np\n",
    "import matplotlib.pyplot as plt"
   ]
  },
  {
   "cell_type": "markdown",
   "metadata": {
    "deletable": true,
    "editable": true
   },
   "source": [
    "## 데이터 리딩 후 전처리"
   ]
  },
  {
   "cell_type": "code",
   "execution_count": 2,
   "metadata": {
    "collapsed": false,
    "deletable": true,
    "editable": true,
    "scrolled": false
   },
   "outputs": [
    {
     "data": {
      "text/html": [
       "<div>\n",
       "<table border=\"1\" class=\"dataframe\">\n",
       "  <thead>\n",
       "    <tr style=\"text-align: right;\">\n",
       "      <th></th>\n",
       "      <th>STORE</th>\n",
       "      <th>NAME</th>\n",
       "      <th>ST</th>\n",
       "      <th>ZIP</th>\n",
       "      <th>X</th>\n",
       "      <th>Y</th>\n",
       "      <th>TTL CTNS</th>\n",
       "      <th>MILES</th>\n",
       "    </tr>\n",
       "  </thead>\n",
       "  <tbody>\n",
       "    <tr>\n",
       "      <th>0</th>\n",
       "      <td>192.0</td>\n",
       "      <td>GARDEN GR/HARBOR</td>\n",
       "      <td>CA</td>\n",
       "      <td>92840.0</td>\n",
       "      <td>-118.01</td>\n",
       "      <td>33.78</td>\n",
       "      <td>627151.0</td>\n",
       "      <td>51.0</td>\n",
       "    </tr>\n",
       "    <tr>\n",
       "      <th>1</th>\n",
       "      <td>193.0</td>\n",
       "      <td>GARDEN GR/BRKHURST</td>\n",
       "      <td>CA</td>\n",
       "      <td>92843.0</td>\n",
       "      <td>-117.93</td>\n",
       "      <td>33.76</td>\n",
       "      <td>385556.0</td>\n",
       "      <td>48.0</td>\n",
       "    </tr>\n",
       "    <tr>\n",
       "      <th>2</th>\n",
       "      <td>200.0</td>\n",
       "      <td>TORRANCE</td>\n",
       "      <td>CA</td>\n",
       "      <td>90505.0</td>\n",
       "      <td>-118.35</td>\n",
       "      <td>33.81</td>\n",
       "      <td>773359.0</td>\n",
       "      <td>66.0</td>\n",
       "    </tr>\n",
       "    <tr>\n",
       "      <th>3</th>\n",
       "      <td>212.0</td>\n",
       "      <td>RIVERSIDE</td>\n",
       "      <td>CA</td>\n",
       "      <td>92503.0</td>\n",
       "      <td>-117.45</td>\n",
       "      <td>33.90</td>\n",
       "      <td>475826.0</td>\n",
       "      <td>21.0</td>\n",
       "    </tr>\n",
       "    <tr>\n",
       "      <th>4</th>\n",
       "      <td>222.0</td>\n",
       "      <td>PUENTE HILLS</td>\n",
       "      <td>CA</td>\n",
       "      <td>91748.0</td>\n",
       "      <td>-117.90</td>\n",
       "      <td>33.98</td>\n",
       "      <td>437230.0</td>\n",
       "      <td>32.0</td>\n",
       "    </tr>\n",
       "  </tbody>\n",
       "</table>\n",
       "</div>"
      ],
      "text/plain": [
       "   STORE                NAME  ST      ZIP       X      Y  TTL CTNS  MILES\n",
       "0  192.0    GARDEN GR/HARBOR  CA  92840.0 -118.01  33.78  627151.0   51.0\n",
       "1  193.0  GARDEN GR/BRKHURST  CA  92843.0 -117.93  33.76  385556.0   48.0\n",
       "2  200.0            TORRANCE  CA  90505.0 -118.35  33.81  773359.0   66.0\n",
       "3  212.0           RIVERSIDE  CA  92503.0 -117.45  33.90  475826.0   21.0\n",
       "4  222.0        PUENTE HILLS  CA  91748.0 -117.90  33.98  437230.0   32.0"
      ]
     },
     "execution_count": 2,
     "metadata": {},
     "output_type": "execute_result"
    },
    {
     "data": {
      "text/html": [
       "<div>\n",
       "<table border=\"1\" class=\"dataframe\">\n",
       "  <thead>\n",
       "    <tr style=\"text-align: right;\">\n",
       "      <th></th>\n",
       "      <th>STORE</th>\n",
       "      <th>NAME</th>\n",
       "      <th>ST</th>\n",
       "      <th>ZIP</th>\n",
       "      <th>X</th>\n",
       "      <th>Y</th>\n",
       "      <th>TTL CTNS</th>\n",
       "      <th>MILES</th>\n",
       "    </tr>\n",
       "  </thead>\n",
       "  <tbody>\n",
       "    <tr>\n",
       "      <th>64</th>\n",
       "      <td>2304.0</td>\n",
       "      <td>WESTMINSTER NW</td>\n",
       "      <td>CA</td>\n",
       "      <td>92683.0</td>\n",
       "      <td>-118.01</td>\n",
       "      <td>33.75</td>\n",
       "      <td>460368.0</td>\n",
       "      <td>52.0</td>\n",
       "    </tr>\n",
       "    <tr>\n",
       "      <th>65</th>\n",
       "      <td>2328.0</td>\n",
       "      <td>CARSON</td>\n",
       "      <td>CA</td>\n",
       "      <td>90745.0</td>\n",
       "      <td>-118.29</td>\n",
       "      <td>33.81</td>\n",
       "      <td>641145.0</td>\n",
       "      <td>62.0</td>\n",
       "    </tr>\n",
       "    <tr>\n",
       "      <th>66</th>\n",
       "      <td>2397.0</td>\n",
       "      <td>LA HABRA</td>\n",
       "      <td>CA</td>\n",
       "      <td>90631.0</td>\n",
       "      <td>-117.96</td>\n",
       "      <td>33.92</td>\n",
       "      <td>554174.0</td>\n",
       "      <td>39.0</td>\n",
       "    </tr>\n",
       "    <tr>\n",
       "      <th>67</th>\n",
       "      <td>2482.0</td>\n",
       "      <td>BREA</td>\n",
       "      <td>CA</td>\n",
       "      <td>92821.0</td>\n",
       "      <td>-117.89</td>\n",
       "      <td>33.92</td>\n",
       "      <td>240483.0</td>\n",
       "      <td>35.0</td>\n",
       "    </tr>\n",
       "    <tr>\n",
       "      <th>68</th>\n",
       "      <td>2632.0</td>\n",
       "      <td>CULVER CITY</td>\n",
       "      <td>CA</td>\n",
       "      <td>90230.0</td>\n",
       "      <td>-118.39</td>\n",
       "      <td>33.99</td>\n",
       "      <td>240483.0</td>\n",
       "      <td>65.0</td>\n",
       "    </tr>\n",
       "  </tbody>\n",
       "</table>\n",
       "</div>"
      ],
      "text/plain": [
       "     STORE            NAME  ST      ZIP       X      Y  TTL CTNS  MILES\n",
       "64  2304.0  WESTMINSTER NW  CA  92683.0 -118.01  33.75  460368.0   52.0\n",
       "65  2328.0          CARSON  CA  90745.0 -118.29  33.81  641145.0   62.0\n",
       "66  2397.0        LA HABRA  CA  90631.0 -117.96  33.92  554174.0   39.0\n",
       "67  2482.0            BREA  CA  92821.0 -117.89  33.92  240483.0   35.0\n",
       "68  2632.0     CULVER CITY  CA  90230.0 -118.39  33.99  240483.0   65.0"
      ]
     },
     "execution_count": 2,
     "metadata": {},
     "output_type": "execute_result"
    }
   ],
   "source": [
    "df = pd.read_csv(\"homework2.csv\", sep=\",\")\n",
    "df.head()\n",
    "df = df.ix[:68]\n",
    "df.tail()"
   ]
  },
  {
   "cell_type": "markdown",
   "metadata": {
    "deletable": true,
    "editable": true
   },
   "source": [
    "## Store 분포 확인"
   ]
  },
  {
   "cell_type": "code",
   "execution_count": 3,
   "metadata": {
    "collapsed": false,
    "deletable": true,
    "editable": true,
    "scrolled": false
   },
   "outputs": [
    {
     "data": {
      "image/png": "[encoded data removed]",
      "text/plain": [
       "<matplotlib.figure.Figure at 0x1d3bbd22a58>"
      ]
     },
     "metadata": {},
     "output_type": "display_data"
    }
   ],
   "source": [
    "plt.scatter(df[\"X\"], df[\"Y\"])\n",
    "plt.show();"
   ]
  },
  {
   "cell_type": "markdown",
   "metadata": {
    "deletable": true,
    "editable": true
   },
   "source": [
    "## 평균값으로 optimum location 결정"
   ]
  },
  {
   "cell_type": "code",
   "execution_count": 4,
   "metadata": {
    "collapsed": false,
    "deletable": true,
    "editable": true,
    "scrolled": true
   },
   "outputs": [
    {
     "data": {
      "text/plain": [
       "(-117.76608695652176, 33.864347826086956)"
      ]
     },
     "execution_count": 4,
     "metadata": {},
     "output_type": "execute_result"
    }
   ],
   "source": [
    "df[\"X\"].mean(), df[\"Y\"].mean()"
   ]
  },
  {
   "cell_type": "code",
   "execution_count": 5,
   "metadata": {
    "collapsed": false,
    "deletable": true,
    "editable": true
   },
   "outputs": [],
   "source": [
    "size = df[\"TTL CTNS\"].astype(float)"
   ]
  },
  {
   "cell_type": "code",
   "execution_count": 6,
   "metadata": {
    "collapsed": false,
    "deletable": true,
    "editable": true,
    "scrolled": true
   },
   "outputs": [
    {
     "data": {
      "image/png": "[encoded data removed]",
      "text/plain": [
       "<matplotlib.figure.Figure at 0x1d3bbd637f0>"
      ]
     },
     "metadata": {},
     "output_type": "display_data"
    }
   ],
   "source": [
    "plt.scatter(df[\"X\"], df[\"Y\"], s=size / size.min() * 10)\n",
    "plt.scatter(df[\"X\"].mean(), df[\"Y\"].mean(), s=100)\n",
    "plt.show();"
   ]
  },
  {
   "cell_type": "markdown",
   "metadata": {
    "deletable": true,
    "editable": true
   },
   "source": [
    "## 중력모형 적용"
   ]
  },
  {
   "cell_type": "markdown",
   "metadata": {
    "deletable": true,
    "editable": true
   },
   "source": [
    "Cx= ∑ dix Vi/ ∑ Vi  \n",
    "Cy= ∑ diy Vi/ ∑ Vi"
   ]
  },
  {
   "cell_type": "code",
   "execution_count": 7,
   "metadata": {
    "collapsed": false,
    "deletable": true,
    "editable": true
   },
   "outputs": [
    {
     "name": "stdout",
     "output_type": "stream",
     "text": [
      "-117.809842837 33.8817090279\n"
     ]
    }
   ],
   "source": [
    "x = df[\"X\"]\n",
    "y = df[\"Y\"]\n",
    "new_x = (x * size).sum() / size.sum()\n",
    "new_y = (y * size).sum() / size.sum()\n",
    "print(new_x, new_y)"
   ]
  },
  {
   "cell_type": "code",
   "execution_count": 8,
   "metadata": {
    "collapsed": false,
    "deletable": true,
    "editable": true,
    "scrolled": true
   },
   "outputs": [
    {
     "data": {
      "image/png": "[encoded data removed]",
      "text/plain": [
       "<matplotlib.figure.Figure at 0x1d3bbe77a58>"
      ]
     },
     "metadata": {},
     "output_type": "display_data"
    }
   ],
   "source": [
    "plt.scatter(x, y, s=size / size.min() * 20)\n",
    "plt.scatter(x.mean(), y.mean(), s=100)\n",
    "plt.scatter(new_x, new_y, s=100)\n",
    "plt.show();"
   ]
  },
  {
   "cell_type": "markdown",
   "metadata": {},
   "source": [
    "## 적절한 캘리포니아 도시 찾기"
   ]
  },
  {
   "cell_type": "code",
   "execution_count": 9,
   "metadata": {
    "collapsed": false
   },
   "outputs": [
    {
     "data": {
      "text/plain": [
       "8"
      ]
     },
     "execution_count": 9,
     "metadata": {},
     "output_type": "execute_result"
    }
   ],
   "source": [
    "dx = (x - new_x) ** 2\n",
    "dy = (y - new_y) ** 2\n",
    "d = (dx + dy) ** 0.5\n",
    "d.argmin()"
   ]
  },
  {
   "cell_type": "markdown",
   "metadata": {
    "deletable": true,
    "editable": true
   },
   "source": [
    "#### Optimum에서 제일 가까운 곳"
   ]
  },
  {
   "cell_type": "code",
   "execution_count": 10,
   "metadata": {
    "collapsed": false,
    "scrolled": true
   },
   "outputs": [
    {
     "data": {
      "text/plain": [
       "STORE          230\n",
       "NAME        ORANGE\n",
       "ST              CA\n",
       "ZIP          92865\n",
       "X          -117.85\n",
       "Y            33.83\n",
       "TTL CTNS    633804\n",
       "MILES           40\n",
       "Name: 8, dtype: object"
      ]
     },
     "execution_count": 10,
     "metadata": {},
     "output_type": "execute_result"
    }
   ],
   "source": [
    "orange = df.ix[8]\n",
    "orange"
   ]
  },
  {
   "cell_type": "code",
   "execution_count": 11,
   "metadata": {
    "collapsed": false
   },
   "outputs": [
    {
     "data": {
      "text/plain": [
       "(-117.84999999999999, 33.829999999999998)"
      ]
     },
     "execution_count": 11,
     "metadata": {},
     "output_type": "execute_result"
    },
    {
     "data": {
      "text/plain": [
       "(-117.80984283726237, 33.881709027897394)"
      ]
     },
     "execution_count": 11,
     "metadata": {},
     "output_type": "execute_result"
    }
   ],
   "source": [
    "orange[\"X\"], orange[\"Y\"]\n",
    "new_x, new_y"
   ]
  },
  {
   "cell_type": "code",
   "execution_count": 12,
   "metadata": {
    "collapsed": false
   },
   "outputs": [
    {
     "data": {
      "image/png": "[encoded data removed]",
      "text/plain": [
       "<matplotlib.figure.Figure at 0x1d3bbeaeba8>"
      ]
     },
     "metadata": {},
     "output_type": "display_data"
    }
   ],
   "source": [
    "plt.scatter(x, y, s=size / size.min() * 20)\n",
    "plt.scatter(new_x, new_y, s=100, c=\"red\")\n",
    "plt.scatter(orange[\"X\"], orange[\"Y\"], s=100)\n",
    "plt.xlim(-118.5, -117.1)\n",
    "plt.ylim(33.5, 34.25)\n",
    "plt.show();"
   ]
  }
 ],
 "metadata": {
  "kernelspec": {
   "display_name": "Python 3",
   "language": "python",
   "name": "python3"
  },
  "language_info": {
   "codemirror_mode": {
    "name": "ipython",
    "version": 3
   },
   "file_extension": ".py",
   "mimetype": "text/x-python",
   "name": "python",
   "nbconvert_exporter": "python",
   "pygments_lexer": "ipython3",
   "version": "3.5.2"
  }
 },
 "nbformat": 4,
 "nbformat_minor": 2
}
